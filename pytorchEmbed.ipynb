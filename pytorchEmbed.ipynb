{
 "cells": [
  {
   "cell_type": "code",
   "execution_count": 28,
   "metadata": {},
   "outputs": [],
   "source": [
    "import pandas as pd \n",
    "import numpy as np \n",
    "import re\n",
    "\n",
    "import torch \n",
    "import torch.nn as nn"
   ]
  },
  {
   "cell_type": "code",
   "execution_count": 29,
   "metadata": {},
   "outputs": [],
   "source": [
    "def load_fixed_dataframe(original = \"data/train.csv\", updated = \"data/train_updates_20220929.csv\", was_fixed = False):\n",
    "\n",
    "    def fix_tm_ph(row, update_map):\n",
    "        update_vals = update_map.get(row[\"seq_id\"], None)\n",
    "        if update_vals is not None:\n",
    "            row[\"tm\"] = update_vals[\"tm\"] #processing thermochemical stability metric (Spearman Correlation Coefficient)\n",
    "            row[\"pH\"] = update_vals[\"pH\"] #iterating through pH values and re-evaluating for precision\n",
    "        return row\n",
    "    \n",
    "    df = pd.read_csv(original)\n",
    "    updated_df = pd.read_csv(updated)\n",
    "    seq_id_phtm = updated_df[~pd.isna(updated_df[\"pH\"])].groupby(\"seq_id\")[[\"pH\", \"tm\"]].first().to_dict(\"index\")\n",
    "\n",
    "    bad_seqs = updated_df[pd.isna(updated_df[\"pH\"])][\"seq_id\"].to_list()\n",
    "\n",
    "    df = df[~df[\"seq_id\"].isin(bad_seqs)].reset_index(drop = True)\n",
    "    df = df.apply(lambda x : fix_tm_ph(x, seq_id_phtm), axis = 1)\n",
    "\n",
    "    if was_fixed: df[\"was_fixed\"] = df[\"seq_id\"].isin(bad_seqs + list(seq_id_phtm.keys()))\n",
    "    return df \n",
    "\n",
    "def clean_train_df(df):\n",
    "    df = df.drop([\"seq_id\", \"data_source\"], axis = 1)\n",
    "    df = df.loc[~df['pH'].isna()]\n",
    "    df = df.loc[df['pH'] <= 14]\n",
    "    df = df.loc[df['protein_sequence'].str.len() <= 221]\n",
    "    df = df.reset_index(drop = True)\n",
    "    return df\n",
    "\n",
    "train_df = load_fixed_dataframe()"
   ]
  },
  {
   "cell_type": "code",
   "execution_count": 30,
   "metadata": {},
   "outputs": [],
   "source": [
    "train_df = clean_train_df(train_df)"
   ]
  },
  {
   "cell_type": "code",
   "execution_count": 31,
   "metadata": {},
   "outputs": [],
   "source": [
    "'''\n",
    "Pre-processing: Mapping encoding values to specified Amino Acid Indicators\n",
    "'''\n",
    "\n",
    "pH_list = list(train_df['protein_sequence'].str.split('').explode('protein_sequence').unique())\n",
    "pH_list.remove('')\n",
    "pH_map = {pH: i + 1 for i, pH in enumerate(pH_list)}\n",
    "pH_map[None] = 0\n",
    "pH_map\n",
    "\n",
    "def encode(df):\n",
    "    sequences_df = pd.DataFrame(df['protein_sequence'].apply(list).tolist())\n",
    "    sequences_df = sequences_df.replace(pH_map)\n",
    "    df = df.join(sequences_df)\n",
    "    df = df.drop(columns=['protein_sequence'])\n",
    "    return df\n",
    "\n",
    "train_df = encode(train_df)"
   ]
  },
  {
   "cell_type": "code",
   "execution_count": 32,
   "metadata": {},
   "outputs": [],
   "source": [
    "X, y = train_df.drop([\"tm\"], axis = 1), train_df[\"tm\"]\n",
    "n_samples = train_df.shape[0]"
   ]
  },
  {
   "cell_type": "code",
   "execution_count": 33,
   "metadata": {},
   "outputs": [],
   "source": [
    "features = torch.tensor((X[:n_samples].values), dtype = torch.long)\n",
    "labels = torch.tensor(y.values.reshape(-1, 1), dtype = torch.float32)"
   ]
  },
  {
   "cell_type": "code",
   "execution_count": 34,
   "metadata": {},
   "outputs": [],
   "source": [
    "dataset = torch.utils.data.TensorDataset(features, labels)\n",
    "n_split = int(len(dataset) * 0.98)\n",
    "train_dataset, val_dataset = torch.utils.data.random_split(dataset, [n_split, len(dataset) - n_split])\n",
    "\n",
    "train_dataloader = torch.utils.data.DataLoader(train_dataset, batch_size = 64)\n",
    "val_dataloader = torch.utils.data.DataLoader(val_dataset, batch_size = 64)"
   ]
  },
  {
   "cell_type": "code",
   "execution_count": 35,
   "metadata": {},
   "outputs": [],
   "source": [
    "device = torch.device(\"cuda\" if torch.cuda.is_available() else \"cpu\")\n",
    "\n",
    "class EnzymeStabilityRegressor(nn.Module):\n",
    "    def __init__(self, input_channels):\n",
    "        super().__init__()\n",
    "\n",
    "        self.n_layers = 1\n",
    "        self.embedding = nn.Embedding(input_channels - 1, 256)\n",
    "        self.lstm1 = nn.LSTM(256, 128, self.n_layers, bidirectional = True, batch_first = True)\n",
    "        self.fc1 = nn.Linear(256, 128)\n",
    "        self.fc2 = nn.Linear(128, 1)\n",
    "\n",
    "        self.activation = nn.ReLU()\n",
    "        self.dropout = nn.Dropout(0.2)\n",
    "    \n",
    "    def forward(self, x):\n",
    "        outputs = self.embedding(x)\n",
    "        outputs, (_h, _c) = self.lstm1(outputs)\n",
    "        outputs = self.fc1(outputs[:, -1, :])\n",
    "        outputs = self.activation(outputs)\n",
    "        outputs = self.dropout(outputs)\n",
    "        outputs = self.fc2(outputs)\n",
    "        return outputs"
   ]
  },
  {
   "cell_type": "code",
   "execution_count": 36,
   "metadata": {},
   "outputs": [
    {
     "name": "stdout",
     "output_type": "stream",
     "text": [
      "EnzymeStabilityRegressor(\n",
      "  (embedding): Embedding(221, 256)\n",
      "  (lstm1): LSTM(256, 128, batch_first=True, bidirectional=True)\n",
      "  (fc1): Linear(in_features=256, out_features=128, bias=True)\n",
      "  (fc2): Linear(in_features=128, out_features=1, bias=True)\n",
      "  (activation): ReLU()\n",
      "  (dropout): Dropout(p=0.2, inplace=False)\n",
      ")\n"
     ]
    }
   ],
   "source": [
    "model = EnzymeStabilityRegressor(222)\n",
    "model = model.to(device)\n",
    "print(model)"
   ]
  },
  {
   "cell_type": "code",
   "execution_count": 37,
   "metadata": {},
   "outputs": [
    {
     "name": "stderr",
     "output_type": "stream",
     "text": [
      "  1%|          | 1/100 [03:35<5:54:51, 215.07s/it]\n"
     ]
    },
    {
     "ename": "KeyboardInterrupt",
     "evalue": "",
     "output_type": "error",
     "traceback": [
      "\u001b[1;31m---------------------------------------------------------------------------\u001b[0m",
      "\u001b[1;31mKeyboardInterrupt\u001b[0m                         Traceback (most recent call last)",
      "\u001b[1;32m<ipython-input-37-0bb899f1a02f>\u001b[0m in \u001b[0;36m<module>\u001b[1;34m\u001b[0m\n\u001b[0;32m     15\u001b[0m         \u001b[0mloss\u001b[0m \u001b[1;33m=\u001b[0m \u001b[0mloss_fn\u001b[0m\u001b[1;33m(\u001b[0m\u001b[0moutput\u001b[0m\u001b[1;33m,\u001b[0m \u001b[0my\u001b[0m\u001b[1;33m)\u001b[0m\u001b[1;33m\u001b[0m\u001b[1;33m\u001b[0m\u001b[0m\n\u001b[0;32m     16\u001b[0m         \u001b[0moptimizer\u001b[0m\u001b[1;33m.\u001b[0m\u001b[0mzero_grad\u001b[0m\u001b[1;33m(\u001b[0m\u001b[1;33m)\u001b[0m\u001b[1;33m\u001b[0m\u001b[1;33m\u001b[0m\u001b[0m\n\u001b[1;32m---> 17\u001b[1;33m         \u001b[0mloss\u001b[0m\u001b[1;33m.\u001b[0m\u001b[0mbackward\u001b[0m\u001b[1;33m(\u001b[0m\u001b[1;33m)\u001b[0m\u001b[1;33m\u001b[0m\u001b[1;33m\u001b[0m\u001b[0m\n\u001b[0m\u001b[0;32m     18\u001b[0m         \u001b[0moptimizer\u001b[0m\u001b[1;33m.\u001b[0m\u001b[0mstep\u001b[0m\u001b[1;33m(\u001b[0m\u001b[1;33m)\u001b[0m\u001b[1;33m\u001b[0m\u001b[1;33m\u001b[0m\u001b[0m\n\u001b[0;32m     19\u001b[0m \u001b[1;33m\u001b[0m\u001b[0m\n",
      "\u001b[1;32mc:\\Users\\kzhan\\anaconda3\\lib\\site-packages\\torch\\_tensor.py\u001b[0m in \u001b[0;36mbackward\u001b[1;34m(self, gradient, retain_graph, create_graph, inputs)\u001b[0m\n\u001b[0;32m    253\u001b[0m                 \u001b[0mcreate_graph\u001b[0m\u001b[1;33m=\u001b[0m\u001b[0mcreate_graph\u001b[0m\u001b[1;33m,\u001b[0m\u001b[1;33m\u001b[0m\u001b[1;33m\u001b[0m\u001b[0m\n\u001b[0;32m    254\u001b[0m                 inputs=inputs)\n\u001b[1;32m--> 255\u001b[1;33m         \u001b[0mtorch\u001b[0m\u001b[1;33m.\u001b[0m\u001b[0mautograd\u001b[0m\u001b[1;33m.\u001b[0m\u001b[0mbackward\u001b[0m\u001b[1;33m(\u001b[0m\u001b[0mself\u001b[0m\u001b[1;33m,\u001b[0m \u001b[0mgradient\u001b[0m\u001b[1;33m,\u001b[0m \u001b[0mretain_graph\u001b[0m\u001b[1;33m,\u001b[0m \u001b[0mcreate_graph\u001b[0m\u001b[1;33m,\u001b[0m \u001b[0minputs\u001b[0m\u001b[1;33m=\u001b[0m\u001b[0minputs\u001b[0m\u001b[1;33m)\u001b[0m\u001b[1;33m\u001b[0m\u001b[1;33m\u001b[0m\u001b[0m\n\u001b[0m\u001b[0;32m    256\u001b[0m \u001b[1;33m\u001b[0m\u001b[0m\n\u001b[0;32m    257\u001b[0m     \u001b[1;32mdef\u001b[0m \u001b[0mregister_hook\u001b[0m\u001b[1;33m(\u001b[0m\u001b[0mself\u001b[0m\u001b[1;33m,\u001b[0m \u001b[0mhook\u001b[0m\u001b[1;33m)\u001b[0m\u001b[1;33m:\u001b[0m\u001b[1;33m\u001b[0m\u001b[1;33m\u001b[0m\u001b[0m\n",
      "\u001b[1;32mc:\\Users\\kzhan\\anaconda3\\lib\\site-packages\\torch\\autograd\\__init__.py\u001b[0m in \u001b[0;36mbackward\u001b[1;34m(tensors, grad_tensors, retain_graph, create_graph, grad_variables, inputs)\u001b[0m\n\u001b[0;32m    145\u001b[0m         \u001b[0mretain_graph\u001b[0m \u001b[1;33m=\u001b[0m \u001b[0mcreate_graph\u001b[0m\u001b[1;33m\u001b[0m\u001b[1;33m\u001b[0m\u001b[0m\n\u001b[0;32m    146\u001b[0m \u001b[1;33m\u001b[0m\u001b[0m\n\u001b[1;32m--> 147\u001b[1;33m     Variable._execution_engine.run_backward(\n\u001b[0m\u001b[0;32m    148\u001b[0m         \u001b[0mtensors\u001b[0m\u001b[1;33m,\u001b[0m \u001b[0mgrad_tensors_\u001b[0m\u001b[1;33m,\u001b[0m \u001b[0mretain_graph\u001b[0m\u001b[1;33m,\u001b[0m \u001b[0mcreate_graph\u001b[0m\u001b[1;33m,\u001b[0m \u001b[0minputs\u001b[0m\u001b[1;33m,\u001b[0m\u001b[1;33m\u001b[0m\u001b[1;33m\u001b[0m\u001b[0m\n\u001b[0;32m    149\u001b[0m         allow_unreachable=True, accumulate_grad=True)  # allow_unreachable flag\n",
      "\u001b[1;31mKeyboardInterrupt\u001b[0m: "
     ]
    }
   ],
   "source": [
    "import tqdm\n",
    "\n",
    "loss_fn = nn.L1Loss()\n",
    "\n",
    "optimizer = torch.optim.SGD(model.parameters(), lr = 0.1)\n",
    "train_loss_all = []\n",
    "\n",
    "for epoch in tqdm.trange(100):\n",
    "    train_loss = 0\n",
    "    train_num = 0\n",
    "    \n",
    "    for step,(X, y) in enumerate(train_dataloader):\n",
    "        output = model(X)\n",
    "\n",
    "        loss = loss_fn(output, y)\n",
    "        optimizer.zero_grad()\n",
    "        loss.backward()\n",
    "        optimizer.step()\n",
    "        \n",
    "        train_loss += loss.item() * X.size(0)\n",
    "        train_num += X.size(0)\n",
    "\n",
    "    train_loss_all.append(train_loss / train_num)"
   ]
  },
  {
   "cell_type": "code",
   "execution_count": null,
   "metadata": {},
   "outputs": [],
   "source": [
    "val_loss_all = []\n",
    "\n",
    "val_loss = 0\n",
    "val_num = 0\n",
    "\n",
    "for step,(X, y) in enumerate(val_dataloader):\n",
    "    X, y = X.to(device), y.to(device)\n",
    "\n",
    "    output = model(X)\n",
    "\n",
    "    loss = loss_fn(output, y)\n",
    "\n",
    "    val_loss += loss.item() * X.size(0)\n",
    "    val_num += X.size(0)\n",
    "\n",
    "val_loss_all.append(val_loss / val_num)\n",
    "print('val mse: ', sum(val_loss_all) / len(val_loss_all))"
   ]
  },
  {
   "cell_type": "code",
   "execution_count": null,
   "metadata": {},
   "outputs": [],
   "source": [
    "print(\"Model's state_dict:\")\n",
    "for param_tensor in model.state_dict():\n",
    "    print(param_tensor, \"\\t\", model.state_dict()[param_tensor].size())\n",
    "\n",
    "# Print optimizer's state_dict\n",
    "print(\"Optimizer's state_dict:\")\n",
    "for var_name in optimizer.state_dict():\n",
    "    print(var_name, \"\\t\", optimizer.state_dict()[var_name])"
   ]
  },
  {
   "cell_type": "code",
   "execution_count": null,
   "metadata": {},
   "outputs": [],
   "source": [
    "import os\n",
    "\n",
    "model = EnzymeStabilityRegressor(222)\n",
    "PATH = \"C:/Users/kzhan/Desktop/thermoPySeqBio/state_dict\"\n",
    "torch.save(model.state_dict(), os.path.join(PATH, \"lstmEmbed.pth\"))\n",
    "model.load_state_dict(torch.load(os.path.join(PATH, \"lstmEmbed.pth\")))"
   ]
  },
  {
   "cell_type": "code",
   "execution_count": null,
   "metadata": {},
   "outputs": [],
   "source": [
    "test_df = pd.read_csv(\"data/test.csv\")\n",
    "test_df = clean_train_df(test_df)\n",
    "test_df = encode(test_df)\n",
    "\n",
    "test_dataset = torch.tensor((test_df.values), dtype=torch.long)"
   ]
  },
  {
   "cell_type": "code",
   "execution_count": null,
   "metadata": {},
   "outputs": [],
   "source": [
    "output = model(test_dataset.to(device)).to(device)\n",
    "result = output.cpu().data.numpy()\n",
    "df_result = pd.DataFrame(result, columns=['tm'])"
   ]
  },
  {
   "cell_type": "code",
   "execution_count": null,
   "metadata": {},
   "outputs": [],
   "source": [
    "test_df_1 = pd.read_csv(\"data/test.csv\")\n",
    "\n",
    "pred_df = pd.DataFrame({\"pH\": test_df[\"pH\"], \"Thermostability Coefficient\": df_result[\"tm\"],\n",
    "\"Protein Sequence\": test_df_1[\"protein_sequence\"]})"
   ]
  },
  {
   "cell_type": "code",
   "execution_count": null,
   "metadata": {},
   "outputs": [],
   "source": [
    "pred_df"
   ]
  }
 ],
 "metadata": {
  "kernelspec": {
   "display_name": "base",
   "language": "python",
   "name": "python3"
  },
  "language_info": {
   "codemirror_mode": {
    "name": "ipython",
    "version": 3
   },
   "file_extension": ".py",
   "mimetype": "text/x-python",
   "name": "python",
   "nbconvert_exporter": "python",
   "pygments_lexer": "ipython3",
   "version": "3.8.5 (default, Sep  3 2020, 21:29:08) [MSC v.1916 64 bit (AMD64)]"
  },
  "orig_nbformat": 4,
  "vscode": {
   "interpreter": {
    "hash": "60fac5df1aab7ca3eb83b4a73d133e7013475894aa93f30a4ab4ef3384ad1ee6"
   }
  }
 },
 "nbformat": 4,
 "nbformat_minor": 2
}
