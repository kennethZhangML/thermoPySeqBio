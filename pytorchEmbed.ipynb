{
 "cells": [
  {
   "cell_type": "code",
   "execution_count": 1,
   "metadata": {},
   "outputs": [],
   "source": [
    "import pandas as pd \n",
    "import numpy as np \n",
    "import re\n",
    "\n",
    "import torch \n",
    "import torch.nn as nn"
   ]
  },
  {
   "cell_type": "code",
   "execution_count": 2,
   "metadata": {},
   "outputs": [],
   "source": [
    "def load_fixed_dataframe(original = \"train.csv\", updated = \"train_updates_20220929.csv\", was_fixed = False):\n",
    "\n",
    "    def fix_tm_ph(row, update_map):\n",
    "        update_vals = update_map.get(row[\"seq_id\"], None)\n",
    "        if update_vals is not None:\n",
    "            row[\"tm\"] = update_vals[\"tm\"] #processing thermochemical stability metric (Spearman Correlation Coefficient)\n",
    "            row[\"pH\"] = update_vals[\"pH\"] #iterating through pH values and re-evaluating for precision\n",
    "        return row\n",
    "    \n",
    "    df = pd.read_csv(original)\n",
    "    updated_df = pd.read_csv(updated)\n",
    "    seq_id_phtm = updated_df[~pd.isna(updated_df[\"pH\"])].groupby(\"seq_id\")[[\"pH\", \"tm\"]].first().to_dict(\"index\")\n",
    "\n",
    "    bad_seqs = updated_df[pd.isna(updated_df[\"pH\"])][\"seq_id\"].to_list()\n",
    "\n",
    "    df = df[~df[\"seq_id\"].isin(bad_seqs)].reset_index(drop = True)\n",
    "    df = df.apply(lambda x : fix_tm_ph(x, seq_id_phtm), axis = 1)\n",
    "\n",
    "    if was_fixed: df[\"was_fixed\"] = df[\"seq_id\"].isin(bad_seqs + list(seq_id_phtm.keys()))\n",
    "    return df \n",
    "\n",
    "def clean_train_df(df):\n",
    "    df = df.drop([\"seq_id\", \"data_source\"], axis = 1)\n",
    "    df = df.loc[~df['pH'].isna()]\n",
    "    df = df.loc[df['pH'] <= 14]\n",
    "    df = df.loc[df['protein_sequence'].str.len() <= 221]\n",
    "    df = df.reset_index(drop = True)\n",
    "    return df\n",
    "\n",
    "train_df = load_fixed_dataframe()"
   ]
  },
  {
   "cell_type": "code",
   "execution_count": 3,
   "metadata": {},
   "outputs": [],
   "source": [
    "train_df = clean_train_df(train_df)"
   ]
  },
  {
   "cell_type": "code",
   "execution_count": 4,
   "metadata": {},
   "outputs": [],
   "source": [
    "'''\n",
    "Pre-processing: Mapping encoding values to specified Amino Acid Indicators\n",
    "'''\n",
    "\n",
    "pH_list = list(train_df['protein_sequence'].str.split('').explode('protein_sequence').unique())\n",
    "pH_list.remove('')\n",
    "pH_map = {pH: i + 1 for i, pH in enumerate(pH_list)}\n",
    "pH_map[None] = 0\n",
    "pH_map\n",
    "\n",
    "def encode(df):\n",
    "    sequences_df = pd.DataFrame(df['protein_sequence'].apply(list).tolist())\n",
    "    sequences_df = sequences_df.replace(pH_map)\n",
    "    df = df.join(sequences_df)\n",
    "    df = df.drop(columns=['protein_sequence'])\n",
    "    return df\n",
    "\n",
    "train_df = encode(train_df)"
   ]
  },
  {
   "cell_type": "code",
   "execution_count": 5,
   "metadata": {},
   "outputs": [],
   "source": [
    "X, y = train_df.drop([\"tm\"], axis = 1), train_df[\"tm\"]\n",
    "n_samples = train_df.shape[0]"
   ]
  },
  {
   "cell_type": "code",
   "execution_count": 6,
   "metadata": {},
   "outputs": [],
   "source": [
    "features = torch.tensor((X[:n_samples].values), dtype = torch.long)\n",
    "labels = torch.tensor(y.values.reshape(-1, 1), dtype = torch.float32)"
   ]
  },
  {
   "cell_type": "code",
   "execution_count": 7,
   "metadata": {},
   "outputs": [],
   "source": [
    "dataset = torch.utils.data.TensorDataset(features, labels)\n",
    "n_split = int(len(dataset) * 0.98)\n",
    "train_dataset, val_dataset = torch.utils.data.random_split(dataset, [n_split, len(dataset) - n_split])\n",
    "\n",
    "train_dataloader = torch.utils.data.DataLoader(train_dataset, batch_size = 64)\n",
    "val_dataloader = torch.utils.data.DataLoader(val_dataset, batch_size = 64)"
   ]
  },
  {
   "cell_type": "code",
   "execution_count": 8,
   "metadata": {},
   "outputs": [],
   "source": [
    "device = torch.device(\"cuda\" if torch.cuda.is_available() else \"cpu\")\n",
    "\n",
    "class EnzymeStabilityRegressor(nn.Module):\n",
    "    def __init__(self, input_channels):\n",
    "        super().__init__()\n",
    "\n",
    "        self.n_layers = 1\n",
    "        self.embedding = nn.Embedding(input_channels - 1, 256)\n",
    "        self.lstm1 = nn.LSTM(256, 128, self.n_layers, bidirectional = True, batch_first = True)\n",
    "        self.fc1 = nn.Linear(256, 128)\n",
    "        self.fc2 = nn.Linear(128, 1)\n",
    "\n",
    "        self.activation = nn.ReLU()\n",
    "        self.dropout = nn.Dropout(0.2)\n",
    "    \n",
    "    def forward(self, x):\n",
    "        outputs = self.embedding(x)\n",
    "        outputs, (_h, _c) = self.lstm1(outputs)\n",
    "        outputs = self.fc1(outputs[:, -1, :])\n",
    "        outputs = self.activation(outputs)\n",
    "        outputs = self.dropout(outputs)\n",
    "        outputs = self.fc2(outputs)\n",
    "        return outputs"
   ]
  },
  {
   "cell_type": "code",
   "execution_count": 9,
   "metadata": {},
   "outputs": [
    {
     "name": "stdout",
     "output_type": "stream",
     "text": [
      "EnzymeStabilityRegressor(\n",
      "  (embedding): Embedding(221, 256)\n",
      "  (lstm1): LSTM(256, 128, batch_first=True, bidirectional=True)\n",
      "  (fc1): Linear(in_features=256, out_features=128, bias=True)\n",
      "  (fc2): Linear(in_features=128, out_features=1, bias=True)\n",
      "  (activation): ReLU()\n",
      "  (dropout): Dropout(p=0.2, inplace=False)\n",
      ")\n"
     ]
    }
   ],
   "source": [
    "model = EnzymeStabilityRegressor(222)\n",
    "model = model.to(device)\n",
    "print(model)"
   ]
  },
  {
   "cell_type": "code",
   "execution_count": 16,
   "metadata": {},
   "outputs": [
    {
     "name": "stderr",
     "output_type": "stream",
     "text": [
      "100%|██████████| 100/100 [2:43:17<00:00, 97.98s/it]  \n"
     ]
    }
   ],
   "source": [
    "import tqdm\n",
    "\n",
    "loss_fn = nn.L1Loss()\n",
    "\n",
    "optimizer = torch.optim.SGD(model.parameters(), lr = 0.1)\n",
    "train_loss_all = []\n",
    "\n",
    "for epoch in tqdm.trange(100):\n",
    "    train_loss = 0\n",
    "    train_num = 0\n",
    "    for step,(X, y) in enumerate(train_dataloader):\n",
    "        output = model(X)\n",
    "\n",
    "        loss = loss_fn(output, y)\n",
    "        optimizer.zero_grad()\n",
    "        loss.backward()\n",
    "        optimizer.step()\n",
    "        \n",
    "        train_loss += loss.item() * X.size(0)\n",
    "        train_num += X.size(0)\n",
    "\n",
    "    train_loss_all.append(train_loss / train_num)"
   ]
  },
  {
   "cell_type": "code",
   "execution_count": 18,
   "metadata": {},
   "outputs": [
    {
     "name": "stdout",
     "output_type": "stream",
     "text": [
      "val mse:  7.323023436146398\n"
     ]
    }
   ],
   "source": [
    "val_loss_all = []\n",
    "\n",
    "val_loss = 0\n",
    "val_num = 0\n",
    "\n",
    "for step,(X, y) in enumerate(val_dataloader):\n",
    "    X, y = X.to(device), y.to(device)\n",
    "\n",
    "    output = model(X)\n",
    "\n",
    "    loss = loss_fn(output, y)\n",
    "\n",
    "    val_loss += loss.item() * X.size(0)\n",
    "    val_num += X.size(0)\n",
    "\n",
    "val_loss_all.append(val_loss / val_num)\n",
    "print('val mse: ', sum(val_loss_all) / len(val_loss_all))"
   ]
  },
  {
   "cell_type": "code",
   "execution_count": 26,
   "metadata": {},
   "outputs": [],
   "source": [
    "test_df = pd.read_csv(\"test.csv\")\n",
    "test_df = clean_train_df(test_df)\n",
    "test_df = encode(test_df)\n",
    "\n",
    "test_dataset = torch.tensor((test_df[:n_split].values), dtype=torch.long)"
   ]
  },
  {
   "cell_type": "code",
   "execution_count": 27,
   "metadata": {},
   "outputs": [
    {
     "data": {
      "text/html": [
       "<div>\n",
       "<style scoped>\n",
       "    .dataframe tbody tr th:only-of-type {\n",
       "        vertical-align: middle;\n",
       "    }\n",
       "\n",
       "    .dataframe tbody tr th {\n",
       "        vertical-align: top;\n",
       "    }\n",
       "\n",
       "    .dataframe thead th {\n",
       "        text-align: right;\n",
       "    }\n",
       "</style>\n",
       "<table border=\"1\" class=\"dataframe\">\n",
       "  <thead>\n",
       "    <tr style=\"text-align: right;\">\n",
       "      <th></th>\n",
       "      <th>tm</th>\n",
       "    </tr>\n",
       "  </thead>\n",
       "  <tbody>\n",
       "    <tr>\n",
       "      <th>0</th>\n",
       "      <td>65.053612</td>\n",
       "    </tr>\n",
       "    <tr>\n",
       "      <th>1</th>\n",
       "      <td>64.501175</td>\n",
       "    </tr>\n",
       "    <tr>\n",
       "      <th>2</th>\n",
       "      <td>64.773415</td>\n",
       "    </tr>\n",
       "    <tr>\n",
       "      <th>3</th>\n",
       "      <td>64.322037</td>\n",
       "    </tr>\n",
       "    <tr>\n",
       "      <th>4</th>\n",
       "      <td>63.776009</td>\n",
       "    </tr>\n",
       "    <tr>\n",
       "      <th>...</th>\n",
       "      <td>...</td>\n",
       "    </tr>\n",
       "    <tr>\n",
       "      <th>2408</th>\n",
       "      <td>63.899548</td>\n",
       "    </tr>\n",
       "    <tr>\n",
       "      <th>2409</th>\n",
       "      <td>64.328316</td>\n",
       "    </tr>\n",
       "    <tr>\n",
       "      <th>2410</th>\n",
       "      <td>64.423912</td>\n",
       "    </tr>\n",
       "    <tr>\n",
       "      <th>2411</th>\n",
       "      <td>65.054184</td>\n",
       "    </tr>\n",
       "    <tr>\n",
       "      <th>2412</th>\n",
       "      <td>65.310120</td>\n",
       "    </tr>\n",
       "  </tbody>\n",
       "</table>\n",
       "<p>2413 rows × 1 columns</p>\n",
       "</div>"
      ],
      "text/plain": [
       "             tm\n",
       "0     65.053612\n",
       "1     64.501175\n",
       "2     64.773415\n",
       "3     64.322037\n",
       "4     63.776009\n",
       "...         ...\n",
       "2408  63.899548\n",
       "2409  64.328316\n",
       "2410  64.423912\n",
       "2411  65.054184\n",
       "2412  65.310120\n",
       "\n",
       "[2413 rows x 1 columns]"
      ]
     },
     "execution_count": 27,
     "metadata": {},
     "output_type": "execute_result"
    }
   ],
   "source": [
    "output = model(test_dataset.to(device)).to(device)\n",
    "result = output.cpu().data.numpy()\n",
    "df_result = pd.DataFrame(result, columns=['tm'])"
   ]
  }
 ],
 "metadata": {
  "kernelspec": {
   "display_name": "Python 3",
   "language": "python",
   "name": "python3"
  },
  "language_info": {
   "codemirror_mode": {
    "name": "ipython",
    "version": 3
   },
   "file_extension": ".py",
   "mimetype": "text/x-python",
   "name": "python",
   "nbconvert_exporter": "python",
   "pygments_lexer": "ipython3",
   "version": "3.8.10 (tags/v3.8.10:3d8993a, May  3 2021, 11:48:03) [MSC v.1928 64 bit (AMD64)]"
  },
  "orig_nbformat": 4,
  "vscode": {
   "interpreter": {
    "hash": "6a59ad10282044ba139a76322f59578aecb1e0d4b83bc460c41dd698a2df07c1"
   }
  }
 },
 "nbformat": 4,
 "nbformat_minor": 2
}
