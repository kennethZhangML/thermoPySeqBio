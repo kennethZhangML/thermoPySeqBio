{
 "cells": [
  {
   "cell_type": "code",
   "execution_count": 3,
   "metadata": {},
   "outputs": [],
   "source": [
    "import pandas as pd \n",
    "import numpy as np \n",
    "import re\n",
    "\n",
    "import torch \n",
    "import torch.nn as nn"
   ]
  },
  {
   "cell_type": "code",
   "execution_count": 4,
   "metadata": {},
   "outputs": [],
   "source": [
    "def load_fixed_dataframe(original = \"data/train.csv\", updated = \"data/train_updates_20220929.csv\", was_fixed = False):\n",
    "\n",
    "    def fix_tm_ph(row, update_map):\n",
    "        update_vals = update_map.get(row[\"seq_id\"], None)\n",
    "        if update_vals is not None:\n",
    "            row[\"tm\"] = update_vals[\"tm\"] #processing thermochemical stability metric (Spearman Correlation Coefficient)\n",
    "            row[\"pH\"] = update_vals[\"pH\"] #iterating through pH values and re-evaluating for precision\n",
    "        return row\n",
    "    \n",
    "    df = pd.read_csv(original)\n",
    "    updated_df = pd.read_csv(updated)\n",
    "    seq_id_phtm = updated_df[~pd.isna(updated_df[\"pH\"])].groupby(\"seq_id\")[[\"pH\", \"tm\"]].first().to_dict(\"index\")\n",
    "\n",
    "    bad_seqs = updated_df[pd.isna(updated_df[\"pH\"])][\"seq_id\"].to_list()\n",
    "\n",
    "    df = df[~df[\"seq_id\"].isin(bad_seqs)].reset_index(drop = True)\n",
    "    df = df.apply(lambda x : fix_tm_ph(x, seq_id_phtm), axis = 1)\n",
    "\n",
    "    if was_fixed: df[\"was_fixed\"] = df[\"seq_id\"].isin(bad_seqs + list(seq_id_phtm.keys()))\n",
    "    return df \n",
    "\n",
    "def clean_train_df(df):\n",
    "    df = df.drop([\"seq_id\", \"data_source\"], axis = 1)\n",
    "    df = df.loc[~df['pH'].isna()]\n",
    "    df = df.loc[df['pH'] <= 14]\n",
    "    df = df.loc[df['protein_sequence'].str.len() <= 221]\n",
    "    df = df.reset_index(drop = True)\n",
    "    return df\n",
    "\n",
    "train_df = load_fixed_dataframe()"
   ]
  },
  {
   "cell_type": "code",
   "execution_count": 5,
   "metadata": {},
   "outputs": [],
   "source": [
    "train_df = clean_train_df(train_df)"
   ]
  },
  {
   "cell_type": "code",
   "execution_count": 6,
   "metadata": {},
   "outputs": [],
   "source": [
    "'''\n",
    "Pre-processing: Mapping encoding values to specified Amino Acid Indicators\n",
    "'''\n",
    "\n",
    "pH_list = list(train_df['protein_sequence'].str.split('').explode('protein_sequence').unique())\n",
    "pH_list.remove('')\n",
    "pH_map = {pH: i + 1 for i, pH in enumerate(pH_list)}\n",
    "pH_map[None] = 0\n",
    "pH_map\n",
    "\n",
    "def encode(df):\n",
    "    sequences_df = pd.DataFrame(df['protein_sequence'].apply(list).tolist())\n",
    "    sequences_df = sequences_df.replace(pH_map)\n",
    "    df = df.join(sequences_df)\n",
    "    df = df.drop(columns=['protein_sequence'])\n",
    "    return df\n",
    "\n",
    "train_df = encode(train_df)"
   ]
  },
  {
   "cell_type": "code",
   "execution_count": 7,
   "metadata": {},
   "outputs": [],
   "source": [
    "X, y = train_df.drop([\"tm\"], axis = 1), train_df[\"tm\"]\n",
    "n_samples = train_df.shape[0]"
   ]
  },
  {
   "cell_type": "code",
   "execution_count": 8,
   "metadata": {},
   "outputs": [],
   "source": [
    "features = torch.tensor((X[:n_samples].values), dtype = torch.long)\n",
    "labels = torch.tensor(y.values.reshape(-1, 1), dtype = torch.float32)"
   ]
  },
  {
   "cell_type": "code",
   "execution_count": 9,
   "metadata": {},
   "outputs": [],
   "source": [
    "dataset = torch.utils.data.TensorDataset(features, labels)\n",
    "n_split = int(len(dataset) * 0.98)\n",
    "train_dataset, val_dataset = torch.utils.data.random_split(dataset, [n_split, len(dataset) - n_split])\n",
    "\n",
    "train_dataloader = torch.utils.data.DataLoader(train_dataset, batch_size = 64)\n",
    "val_dataloader = torch.utils.data.DataLoader(val_dataset, batch_size = 64)"
   ]
  },
  {
   "cell_type": "code",
   "execution_count": 10,
   "metadata": {},
   "outputs": [],
   "source": [
    "device = torch.device(\"cuda\" if torch.cuda.is_available() else \"cpu\")\n",
    "\n",
    "class EnzymeStabilityRegressor(nn.Module):\n",
    "    def __init__(self, input_channels):\n",
    "        super().__init__()\n",
    "\n",
    "        self.n_layers = 1\n",
    "        self.embedding = nn.Embedding(input_channels - 1, 256)\n",
    "        self.lstm1 = nn.LSTM(256, 128, self.n_layers, bidirectional = True, batch_first = True)\n",
    "        self.fc1 = nn.Linear(256, 128)\n",
    "        self.fc2 = nn.Linear(128, 1)\n",
    "\n",
    "        self.activation = nn.ReLU()\n",
    "        self.dropout = nn.Dropout(0.2)\n",
    "    \n",
    "    def forward(self, x):\n",
    "        outputs = self.embedding(x)\n",
    "        outputs, (_h, _c) = self.lstm1(outputs)\n",
    "        outputs = self.fc1(outputs[:, -1, :])\n",
    "        outputs = self.activation(outputs)\n",
    "        outputs = self.dropout(outputs)\n",
    "        outputs = self.fc2(outputs)\n",
    "        return outputs"
   ]
  },
  {
   "cell_type": "code",
   "execution_count": 11,
   "metadata": {},
   "outputs": [
    {
     "name": "stdout",
     "output_type": "stream",
     "text": [
      "EnzymeStabilityRegressor(\n",
      "  (embedding): Embedding(221, 256)\n",
      "  (lstm1): LSTM(256, 128, batch_first=True, bidirectional=True)\n",
      "  (fc1): Linear(in_features=256, out_features=128, bias=True)\n",
      "  (fc2): Linear(in_features=128, out_features=1, bias=True)\n",
      "  (activation): ReLU()\n",
      "  (dropout): Dropout(p=0.2, inplace=False)\n",
      ")\n"
     ]
    }
   ],
   "source": [
    "model = EnzymeStabilityRegressor(222)\n",
    "model = model.to(device)\n",
    "print(model)"
   ]
  },
  {
   "cell_type": "code",
   "execution_count": 12,
   "metadata": {},
   "outputs": [
    {
     "name": "stderr",
     "output_type": "stream",
     "text": [
      " 98%|█████████▊| 98/100 [2:12:29<02:28, 74.37s/it]  "
     ]
    }
   ],
   "source": [
    "import tqdm\n",
    "\n",
    "loss_fn = nn.L1Loss()\n",
    "\n",
    "optimizer = torch.optim.SGD(model.parameters(), lr = 0.1)\n",
    "train_loss_all = []\n",
    "\n",
    "for epoch in tqdm.trange(100):\n",
    "    train_loss = 0\n",
    "    train_num = 0\n",
    "    \n",
    "    for step,(X, y) in enumerate(train_dataloader):\n",
    "        output = model(X)\n",
    "\n",
    "        loss = loss_fn(output, y)\n",
    "        optimizer.zero_grad()\n",
    "        loss.backward()\n",
    "        optimizer.step()\n",
    "        \n",
    "        train_loss += loss.item() * X.size(0)\n",
    "        train_num += X.size(0)\n",
    "\n",
    "    train_loss_all.append(train_loss / train_num)"
   ]
  },
  {
   "cell_type": "code",
   "execution_count": null,
   "metadata": {},
   "outputs": [
    {
     "name": "stdout",
     "output_type": "stream",
     "text": [
      "val mse:  8.084593723666284\n"
     ]
    }
   ],
   "source": [
    "val_loss_all = []\n",
    "\n",
    "val_loss = 0\n",
    "val_num = 0\n",
    "\n",
    "for step,(X, y) in enumerate(val_dataloader):\n",
    "    X, y = X.to(device), y.to(device)\n",
    "\n",
    "    output = model(X)\n",
    "\n",
    "    loss = loss_fn(output, y)\n",
    "\n",
    "    val_loss += loss.item() * X.size(0)\n",
    "    val_num += X.size(0)\n",
    "\n",
    "val_loss_all.append(val_loss / val_num)\n",
    "print('val mse: ', sum(val_loss_all) / len(val_loss_all))"
   ]
  },
  {
   "cell_type": "code",
   "execution_count": null,
   "metadata": {},
   "outputs": [
    {
     "name": "stdout",
     "output_type": "stream",
     "text": [
      "Model's state_dict:\n",
      "embedding.weight \t torch.Size([221, 256])\n",
      "lstm1.weight_ih_l0 \t torch.Size([512, 256])\n",
      "lstm1.weight_hh_l0 \t torch.Size([512, 128])\n",
      "lstm1.bias_ih_l0 \t torch.Size([512])\n",
      "lstm1.bias_hh_l0 \t torch.Size([512])\n",
      "lstm1.weight_ih_l0_reverse \t torch.Size([512, 256])\n",
      "lstm1.weight_hh_l0_reverse \t torch.Size([512, 128])\n",
      "lstm1.bias_ih_l0_reverse \t torch.Size([512])\n",
      "lstm1.bias_hh_l0_reverse \t torch.Size([512])\n",
      "fc1.weight \t torch.Size([128, 256])\n",
      "fc1.bias \t torch.Size([128])\n",
      "fc2.weight \t torch.Size([1, 128])\n",
      "fc2.bias \t torch.Size([1])\n",
      "Optimizer's state_dict:\n",
      "state \t {0: {'momentum_buffer': None}, 1: {'momentum_buffer': None}, 2: {'momentum_buffer': None}, 3: {'momentum_buffer': None}, 4: {'momentum_buffer': None}, 5: {'momentum_buffer': None}, 6: {'momentum_buffer': None}, 7: {'momentum_buffer': None}, 8: {'momentum_buffer': None}, 9: {'momentum_buffer': None}, 10: {'momentum_buffer': None}, 11: {'momentum_buffer': None}, 12: {'momentum_buffer': None}}\n",
      "param_groups \t [{'lr': 0.1, 'momentum': 0, 'dampening': 0, 'weight_decay': 0, 'nesterov': False, 'params': [0, 1, 2, 3, 4, 5, 6, 7, 8, 9, 10, 11, 12]}]\n"
     ]
    }
   ],
   "source": [
    "print(\"Model's state_dict:\")\n",
    "for param_tensor in model.state_dict():\n",
    "    print(param_tensor, \"\\t\", model.state_dict()[param_tensor].size())\n",
    "\n",
    "# Print optimizer's state_dict\n",
    "print(\"Optimizer's state_dict:\")\n",
    "for var_name in optimizer.state_dict():\n",
    "    print(var_name, \"\\t\", optimizer.state_dict()[var_name])"
   ]
  },
  {
   "cell_type": "code",
   "execution_count": null,
   "metadata": {},
   "outputs": [
    {
     "data": {
      "text/plain": [
       "<All keys matched successfully>"
      ]
     },
     "execution_count": 26,
     "metadata": {},
     "output_type": "execute_result"
    }
   ],
   "source": [
    "import os\n",
    "\n",
    "model = EnzymeStabilityRegressor(222)\n",
    "PATH = \"C:/Users/kzhan/Desktop/thermoPySeqBio/state_dict\"\n",
    "torch.save(model.state_dict(), os.path.join(PATH, \"lstmEmbed.pth\"))\n",
    "model.load_state_dict(torch.load(os.path.join(PATH, \"lstmEmbed.pth\")))"
   ]
  },
  {
   "cell_type": "code",
   "execution_count": null,
   "metadata": {},
   "outputs": [],
   "source": [
    "test_df = pd.read_csv(\"data/test.csv\")\n",
    "test_df = clean_train_df(test_df)\n",
    "test_df = encode(test_df)\n",
    "\n",
    "test_dataset = torch.tensor((test_df.values), dtype=torch.long)"
   ]
  },
  {
   "cell_type": "code",
   "execution_count": null,
   "metadata": {},
   "outputs": [],
   "source": [
    "output = model(test_dataset.to(device)).to(device)\n",
    "result = output.cpu().data.numpy()\n",
    "df_result = pd.DataFrame(result, columns=['tm'])"
   ]
  },
  {
   "cell_type": "code",
   "execution_count": null,
   "metadata": {},
   "outputs": [],
   "source": [
    "test_df_1 = pd.read_csv(\"data/test.csv\")\n",
    "\n",
    "pred_df = pd.DataFrame({\"pH\": test_df[\"pH\"], \"Thermostability Coefficient\": df_result[\"tm\"],\n",
    "\"Protein Sequence\": test_df_1[\"protein_sequence\"]})"
   ]
  },
  {
   "cell_type": "code",
   "execution_count": null,
   "metadata": {},
   "outputs": [
    {
     "data": {
      "text/html": [
       "<div>\n",
       "<style scoped>\n",
       "    .dataframe tbody tr th:only-of-type {\n",
       "        vertical-align: middle;\n",
       "    }\n",
       "\n",
       "    .dataframe tbody tr th {\n",
       "        vertical-align: top;\n",
       "    }\n",
       "\n",
       "    .dataframe thead th {\n",
       "        text-align: right;\n",
       "    }\n",
       "</style>\n",
       "<table border=\"1\" class=\"dataframe\">\n",
       "  <thead>\n",
       "    <tr style=\"text-align: right;\">\n",
       "      <th></th>\n",
       "      <th>pH</th>\n",
       "      <th>Thermostability Coefficient</th>\n",
       "      <th>Protein Sequence</th>\n",
       "    </tr>\n",
       "  </thead>\n",
       "  <tbody>\n",
       "    <tr>\n",
       "      <th>0</th>\n",
       "      <td>8</td>\n",
       "      <td>48.499840</td>\n",
       "      <td>VPVNPEPDATSVENVAEKTGSGDSQSDPIKADLEVKGQSALPFDVD...</td>\n",
       "    </tr>\n",
       "    <tr>\n",
       "      <th>1</th>\n",
       "      <td>8</td>\n",
       "      <td>51.354286</td>\n",
       "      <td>VPVNPEPDATSVENVAKKTGSGDSQSDPIKADLEVKGQSALPFDVD...</td>\n",
       "    </tr>\n",
       "    <tr>\n",
       "      <th>2</th>\n",
       "      <td>8</td>\n",
       "      <td>51.825100</td>\n",
       "      <td>VPVNPEPDATSVENVAKTGSGDSQSDPIKADLEVKGQSALPFDVDC...</td>\n",
       "    </tr>\n",
       "    <tr>\n",
       "      <th>3</th>\n",
       "      <td>8</td>\n",
       "      <td>49.458458</td>\n",
       "      <td>VPVNPEPDATSVENVALCTGSGDSQSDPIKADLEVKGQSALPFDVD...</td>\n",
       "    </tr>\n",
       "    <tr>\n",
       "      <th>4</th>\n",
       "      <td>8</td>\n",
       "      <td>50.623505</td>\n",
       "      <td>VPVNPEPDATSVENVALFTGSGDSQSDPIKADLEVKGQSALPFDVD...</td>\n",
       "    </tr>\n",
       "    <tr>\n",
       "      <th>...</th>\n",
       "      <td>...</td>\n",
       "      <td>...</td>\n",
       "      <td>...</td>\n",
       "    </tr>\n",
       "    <tr>\n",
       "      <th>2408</th>\n",
       "      <td>8</td>\n",
       "      <td>49.731792</td>\n",
       "      <td>VPVNPEPDATSVENVILKTGSGDSQSDPIKADLEVKGQSALPFDVD...</td>\n",
       "    </tr>\n",
       "    <tr>\n",
       "      <th>2409</th>\n",
       "      <td>8</td>\n",
       "      <td>49.340069</td>\n",
       "      <td>VPVNPEPDATSVENVLLKTGSGDSQSDPIKADLEVKGQSALPFDVD...</td>\n",
       "    </tr>\n",
       "    <tr>\n",
       "      <th>2410</th>\n",
       "      <td>8</td>\n",
       "      <td>48.238953</td>\n",
       "      <td>VPVNPEPDATSVENVNLKTGSGDSQSDPIKADLEVKGQSALPFDVD...</td>\n",
       "    </tr>\n",
       "    <tr>\n",
       "      <th>2411</th>\n",
       "      <td>8</td>\n",
       "      <td>49.053619</td>\n",
       "      <td>VPVNPEPDATSVENVPLKTGSGDSQSDPIKADLEVKGQSALPFDVD...</td>\n",
       "    </tr>\n",
       "    <tr>\n",
       "      <th>2412</th>\n",
       "      <td>8</td>\n",
       "      <td>48.643692</td>\n",
       "      <td>VPVNPEPDATSVENVWLKTGSGDSQSDPIKADLEVKGQSALPFDVD...</td>\n",
       "    </tr>\n",
       "  </tbody>\n",
       "</table>\n",
       "<p>2413 rows × 3 columns</p>\n",
       "</div>"
      ],
      "text/plain": [
       "      pH  Thermostability Coefficient  \\\n",
       "0      8                    48.499840   \n",
       "1      8                    51.354286   \n",
       "2      8                    51.825100   \n",
       "3      8                    49.458458   \n",
       "4      8                    50.623505   \n",
       "...   ..                          ...   \n",
       "2408   8                    49.731792   \n",
       "2409   8                    49.340069   \n",
       "2410   8                    48.238953   \n",
       "2411   8                    49.053619   \n",
       "2412   8                    48.643692   \n",
       "\n",
       "                                       Protein Sequence  \n",
       "0     VPVNPEPDATSVENVAEKTGSGDSQSDPIKADLEVKGQSALPFDVD...  \n",
       "1     VPVNPEPDATSVENVAKKTGSGDSQSDPIKADLEVKGQSALPFDVD...  \n",
       "2     VPVNPEPDATSVENVAKTGSGDSQSDPIKADLEVKGQSALPFDVDC...  \n",
       "3     VPVNPEPDATSVENVALCTGSGDSQSDPIKADLEVKGQSALPFDVD...  \n",
       "4     VPVNPEPDATSVENVALFTGSGDSQSDPIKADLEVKGQSALPFDVD...  \n",
       "...                                                 ...  \n",
       "2408  VPVNPEPDATSVENVILKTGSGDSQSDPIKADLEVKGQSALPFDVD...  \n",
       "2409  VPVNPEPDATSVENVLLKTGSGDSQSDPIKADLEVKGQSALPFDVD...  \n",
       "2410  VPVNPEPDATSVENVNLKTGSGDSQSDPIKADLEVKGQSALPFDVD...  \n",
       "2411  VPVNPEPDATSVENVPLKTGSGDSQSDPIKADLEVKGQSALPFDVD...  \n",
       "2412  VPVNPEPDATSVENVWLKTGSGDSQSDPIKADLEVKGQSALPFDVD...  \n",
       "\n",
       "[2413 rows x 3 columns]"
      ]
     },
     "execution_count": 58,
     "metadata": {},
     "output_type": "execute_result"
    }
   ],
   "source": [
    "pred_df"
   ]
  }
 ],
 "metadata": {
  "kernelspec": {
   "display_name": "base",
   "language": "python",
   "name": "python3"
  },
  "language_info": {
   "codemirror_mode": {
    "name": "ipython",
    "version": 3
   },
   "file_extension": ".py",
   "mimetype": "text/x-python",
   "name": "python",
   "nbconvert_exporter": "python",
   "pygments_lexer": "ipython3",
   "version": "3.8.5 (default, Sep  3 2020, 21:29:08) [MSC v.1916 64 bit (AMD64)]"
  },
  "orig_nbformat": 4,
  "vscode": {
   "interpreter": {
    "hash": "60fac5df1aab7ca3eb83b4a73d133e7013475894aa93f30a4ab4ef3384ad1ee6"
   }
  }
 },
 "nbformat": 4,
 "nbformat_minor": 2
}
