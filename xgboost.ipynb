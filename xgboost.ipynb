{
 "cells": [
  {
   "cell_type": "code",
   "execution_count": 1,
   "metadata": {},
   "outputs": [],
   "source": [
    "import pandas as pd \n",
    "import numpy as np \n",
    "import re\n",
    "\n",
    "import torch \n",
    "import torch.nn as nn\n",
    "\n",
    "def load_fixed_dataframe(original = \"train.csv\", updated = \"train_updates_20220929.csv\", was_fixed = False):\n",
    "\n",
    "    def fix_tm_ph(row, update_map):\n",
    "        update_vals = update_map.get(row[\"seq_id\"], None)\n",
    "        if update_vals is not None:\n",
    "            row[\"tm\"] = update_vals[\"tm\"] #processing thermochemical stability metric (Spearman Correlation Coefficient)\n",
    "            row[\"pH\"] = update_vals[\"pH\"] #iterating through pH values and re-evaluating for precision\n",
    "        return row\n",
    "    \n",
    "    df = pd.read_csv(original)\n",
    "    updated_df = pd.read_csv(updated)\n",
    "    seq_id_phtm = updated_df[~pd.isna(updated_df[\"pH\"])].groupby(\"seq_id\")[[\"pH\", \"tm\"]].first().to_dict(\"index\")\n",
    "\n",
    "    bad_seqs = updated_df[pd.isna(updated_df[\"pH\"])][\"seq_id\"].to_list()\n",
    "\n",
    "    df = df[~df[\"seq_id\"].isin(bad_seqs)].reset_index(drop = True)\n",
    "    df = df.apply(lambda x : fix_tm_ph(x, seq_id_phtm), axis = 1)\n",
    "\n",
    "    if was_fixed: df[\"was_fixed\"] = df[\"seq_id\"].isin(bad_seqs + list(seq_id_phtm.keys()))\n",
    "    return df \n",
    "\n",
    "test_df = pd.read_csv(\"test.csv\")\n",
    "train_df = load_fixed_dataframe()\n",
    "\n",
    "def return_amino_acid_df(df):    \n",
    "    search_amino=['A', 'C', 'D', 'E', 'F', 'G', 'H', 'I', 'K', 'L', 'M', 'N', 'P', 'Q', 'R', 'S', 'T', 'V', 'W', 'Y']\n",
    "\n",
    "    for amino_acid in search_amino:\n",
    "         df[amino_acid] = df['protein_sequence'].str.count(amino_acid,re.I)\n",
    "    return df\n",
    "\n",
    "train_df = return_amino_acid_df(train_df)\n",
    "test_df = return_amino_acid_df(test_df)\n",
    "\n",
    "train_df[\"protein_length\"] = train_df[\"protein_sequence\"].apply(lambda x : len(x))\n",
    "test_df[\"protein_length\"] = test_df[\"protein_sequence\"].apply(lambda x : len(x))"
   ]
  },
  {
   "cell_type": "code",
   "execution_count": 2,
   "metadata": {},
   "outputs": [],
   "source": [
    "from sklearn.model_selection import train_test_split\n",
    "\n",
    "X, y = train_df.drop([\"tm\", \"seq_id\", \"protein_sequence\", \"data_source\"], axis = 1), train_df[\"tm\"]\n",
    "X_train, X_test, y_train, y_test = train_test_split(X, y, test_size = 0.2, random_state = 42)"
   ]
  },
  {
   "cell_type": "code",
   "execution_count": 3,
   "metadata": {},
   "outputs": [
    {
     "name": "stdout",
     "output_type": "stream",
     "text": [
      "Feature Shapes:  (23184, 22) Target Shapes:  (23184,)\n",
      "# of Feature Dimensions:  2 \n",
      "# of Target Dimensions:  1\n",
      "Number of Features:  22 Number of Targets:  1\n"
     ]
    }
   ],
   "source": [
    "print(\"Feature Shapes: \", X_train.shape, \"Target Shapes: \", y_train.shape)\n",
    "print(\"# of Feature Dimensions: \", X_train.ndim, \"\\n# of Target Dimensions: \", y_train.ndim)\n",
    "print(\"Number of Features: \", X_train.shape[1], \"Number of Targets: \", y_train.ndim)"
   ]
  },
  {
   "cell_type": "code",
   "execution_count": 11,
   "metadata": {},
   "outputs": [
    {
     "name": "stdout",
     "output_type": "stream",
     "text": [
      "Mean Absolute error on Train data is:3.77765233635162\n",
      "Mean Absolute error on Val data is:5.574443554972829\n",
      "Training Correlation Value: SpearmanrResult(correlation=0.8238017859126157, pvalue=0.0)\n",
      "Validation Correlation Value: SpearmanrResult(correlation=0.57679874273538, pvalue=0.0)\n"
     ]
    }
   ],
   "source": [
    "from xgboost import XGBRegressor\n",
    "from sklearn.metrics import mean_absolute_error\n",
    "from scipy.stats import spearmanr\n",
    "\n",
    "model = XGBRegressor(learning_rate = 0.1, max_depth = 8, n_estimators=150, tree_method=\"gpu_hist\")\n",
    "model.fit(X_train, y_train)\n",
    "\n",
    "y_pred_train = model.predict(X_train)\n",
    "y_pred_val = model.predict(X_test)\n",
    "print(\"Mean Absolute error on Train data is:{}\".format(mean_absolute_error(y_train, y_pred_train)))\n",
    "print(\"Mean Absolute error on Val data is:{}\".format(mean_absolute_error(y_test, y_pred_val)))\n",
    "\n",
    "print(\"Training Correlation Value: {}\".format(spearmanr(y_pred_train, y_train)))\n",
    "print(\"Validation Correlation Value: {}\".format(spearmanr(y_pred_val, y_test)))"
   ]
  }
 ],
 "metadata": {
  "kernelspec": {
   "display_name": "Python 3",
   "language": "python",
   "name": "python3"
  },
  "language_info": {
   "codemirror_mode": {
    "name": "ipython",
    "version": 3
   },
   "file_extension": ".py",
   "mimetype": "text/x-python",
   "name": "python",
   "nbconvert_exporter": "python",
   "pygments_lexer": "ipython3",
   "version": "3.8.10 (tags/v3.8.10:3d8993a, May  3 2021, 11:48:03) [MSC v.1928 64 bit (AMD64)]"
  },
  "orig_nbformat": 4,
  "vscode": {
   "interpreter": {
    "hash": "6a59ad10282044ba139a76322f59578aecb1e0d4b83bc460c41dd698a2df07c1"
   }
  }
 },
 "nbformat": 4,
 "nbformat_minor": 2
}
